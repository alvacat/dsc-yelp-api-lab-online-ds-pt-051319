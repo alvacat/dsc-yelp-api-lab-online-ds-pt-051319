{
 "cells": [
  {
   "cell_type": "markdown",
   "metadata": {},
   "source": [
    "# Yelp API - Lab\n",
    "\n",
    "\n",
    "## Introduction \n",
    "\n",
    "Now that we've seen how the Yelp API works and some basic Folium visualizations, it's time to put those skills to work in order to create a working map! Taking things a step further, you'll also independently explore how to perform pagination in order to retrieve a full results set from the Yelp API!\n",
    "\n",
    "## Objectives\n",
    "\n",
    "You will be able to: \n",
    "* Create HTTP requests to get data from Yelp API\n",
    "* Parse HTTP responses and perform data analysis on the data returned\n",
    "* Perform pagination to retrieve troves of data!\n",
    "* Create a simple geographical system on to view information about selected businesses, at a given location. \n",
    "\n",
    "## Problem Introduction\n",
    "\n",
    "You've now worked with some API calls, but we have yet to see how to retrieve a more complete dataset in a programmatic manner. Returning to the Yelp API, the [documentation](https://www.yelp.com/developers/documentation/v3/business_search) also provides us details regarding the API limits. These often include details about the number of requests a user is allowed to make within a specified time limit and the maximum number of results to be returned. In this case, we are told that any request has a maximum of 50 results per request and defaults to 20. Furthermore, any search will be limited to a total of 1000 results. To retrieve all 1000 of these results, we would have to page through the results piece by piece, retrieving 50 at a time. Processes such as these are often referred to as pagination.\n",
    "\n",
    "In this lab, you will define a search and then paginate over the results to retrieve all of the results. You'll then parse these responses as a DataFrame (for further exploration) and create a map using Folium to visualize the results geographically.\n",
    "\n",
    "## Part I - Make the Initial Request\n",
    "\n",
    "Start by making an initial request to the Yelp API. Your search must include at least 2 parameters: **term** and **location**. For example, you might search for pizza restaurants in NYC. The term and location is up to you, but make the request below."
   ]
  },
  {
   "cell_type": "code",
   "execution_count": 1,
   "metadata": {},
   "outputs": [],
   "source": [
    "#Your code here\n",
    "import requests\n",
    "import json\n",
    "import pandas as pd\n",
    "import folium\n",
    "import matplotlib.pyplot as plt\n",
    "\n",
    "def get_keys(path):\n",
    "    with open(path) as f:\n",
    "        return json.load(f)\n",
    "    \n",
    "keys = get_keys(\"/Users/alvar/.secret/yelp_api.json\")\n",
    "api_key = keys['api_key']"
   ]
  },
  {
   "cell_type": "code",
   "execution_count": 2,
   "metadata": {},
   "outputs": [
    {
     "data": {
      "text/plain": [
       "True"
      ]
     },
     "execution_count": 2,
     "metadata": {},
     "output_type": "execute_result"
    }
   ],
   "source": [
    "term='food'\n",
    "location='Spartanburg SC'\n",
    "url='https://api.yelp.com/v3/businesses/search'\n",
    "limit=50\n",
    "\n",
    "headers={'Authorization': 'Bearer {}'.format(api_key)}\n",
    "url_params={'term': term.replace(' ', '+'),'location': location.replace(' ','+'),'limit':limit}\n",
    "\n",
    "resp=requests.get(url, headers=headers, params=url_params)\n",
    "resp.status_code==requests.codes.ok"
   ]
  },
  {
   "cell_type": "code",
   "execution_count": 3,
   "metadata": {},
   "outputs": [
    {
     "name": "stdout",
     "output_type": "stream",
     "text": [
      "<class 'str'>\n",
      "{\"businesses\": [{\"id\": \"u08NsW2Fy9K4DohR1UeVdg\", \"alias\": \"the-farmers-table-spartanburg\", \"name\": \"The Farmer's Table\", \"image_url\": \"https://s3-media2.fl.yelpcdn.com/bphoto/OpXoS4mlol_r7Gjs_CykkQ/o.jpg\", \"is_closed\": false, \"url\": \"https://www.yelp.com/biz/the-farmers-table-spartanburg?adjust_creative=GV_7iPHdUYLiLqCJG46o1w&utm_campaign=yelp_api_v3&utm_medium=api_v3_business_search&utm_source=GV_7iPHdUYLiLqCJG46o1w\", \"review_count\": 300, \"categories\": [{\"alias\": \"breakfast_brunch\", \"title\": \"Breakfast & Brunch\"}, {\"alias\": \"burgers\", \"title\": \"Burgers\"}, {\"alias\": \"salad\", \"title\": \"Salad\"}], \"rating\": 4.0, \"coordinates\": {\"latitude\": 34.94733, \"longitude\": -81.93411}, \"transactions\": [], \"price\": \"$$\", \"location\": {\"address1\": \"149 South Daniel Morgan Ave\", \"address2\": null, \"address3\": \"\", \"city\": \"Spartanburg\", \"zip_code\": \"29302\", \"country\": \"US\", \"state\": \"SC\", \"display_address\": [\"149 South Daniel Morgan Ave\", \"Spartanburg, SC 29302\"]}, \"phone\": \"+18645826554\", \"display_phone\":\n"
     ]
    }
   ],
   "source": [
    "print(type(resp.text))\n",
    "print(resp.text[:1000])"
   ]
  },
  {
   "cell_type": "markdown",
   "metadata": {},
   "source": [
    "## Pagination\n",
    "\n",
    "Now that you have an initial response, you can examine the contents of the json container. For example, you might start with ```response.json().keys()```. Here, you'll see a key for `'total'`, which tells you the full number of matching results given your query parameters. Write a loop (or ideally a function) which then makes successive API calls using the offset parameter to retrieve all of the results (or 5000 for a particularly large result set) for the original query. As you do this, be mindful of how you store the data. Your final goal will be to reformat the data concerning the businesses themselves into a pandas DataFrame from the json objects.\n",
    "\n",
    "**Note: be mindful of the API rate limits. You can only make 5000 requests per day, and are also can make requests too fast. Start prototyping small before running a loop that could be faulty. You can also use time.sleep(n) to add delays. For more details see https://www.yelp.com/developers/documentation/v3/rate_limiting.**"
   ]
  },
  {
   "cell_type": "code",
   "execution_count": 4,
   "metadata": {},
   "outputs": [
    {
     "data": {
      "text/plain": [
       "dict_keys(['businesses', 'total', 'region'])"
      ]
     },
     "execution_count": 4,
     "metadata": {},
     "output_type": "execute_result"
    }
   ],
   "source": [
    "resp.json().keys()"
   ]
  },
  {
   "cell_type": "code",
   "execution_count": 5,
   "metadata": {},
   "outputs": [
    {
     "data": {
      "text/plain": [
       "603"
      ]
     },
     "execution_count": 5,
     "metadata": {},
     "output_type": "execute_result"
    }
   ],
   "source": [
    "# Your code here; use a function or loop to retrieve all the results from your original request\n",
    "resp.json()['total']"
   ]
  },
  {
   "cell_type": "code",
   "execution_count": 6,
   "metadata": {
    "scrolled": false
   },
   "outputs": [
    {
     "data": {
      "text/plain": [
       "[{'id': 'u08NsW2Fy9K4DohR1UeVdg',\n",
       "  'alias': 'the-farmers-table-spartanburg',\n",
       "  'name': \"The Farmer's Table\",\n",
       "  'image_url': 'https://s3-media2.fl.yelpcdn.com/bphoto/OpXoS4mlol_r7Gjs_CykkQ/o.jpg',\n",
       "  'is_closed': False,\n",
       "  'url': 'https://www.yelp.com/biz/the-farmers-table-spartanburg?adjust_creative=GV_7iPHdUYLiLqCJG46o1w&utm_campaign=yelp_api_v3&utm_medium=api_v3_business_search&utm_source=GV_7iPHdUYLiLqCJG46o1w',\n",
       "  'review_count': 300,\n",
       "  'categories': [{'alias': 'breakfast_brunch', 'title': 'Breakfast & Brunch'},\n",
       "   {'alias': 'burgers', 'title': 'Burgers'},\n",
       "   {'alias': 'salad', 'title': 'Salad'}],\n",
       "  'rating': 4.0,\n",
       "  'coordinates': {'latitude': 34.94733, 'longitude': -81.93411},\n",
       "  'transactions': [],\n",
       "  'price': '$$',\n",
       "  'location': {'address1': '149 South Daniel Morgan Ave',\n",
       "   'address2': None,\n",
       "   'address3': '',\n",
       "   'city': 'Spartanburg',\n",
       "   'zip_code': '29302',\n",
       "   'country': 'US',\n",
       "   'state': 'SC',\n",
       "   'display_address': ['149 South Daniel Morgan Ave',\n",
       "    'Spartanburg, SC 29302']},\n",
       "  'phone': '+18645826554',\n",
       "  'display_phone': '(864) 582-6554',\n",
       "  'distance': 713.4166089855454},\n",
       " {'id': '34vmCMgxCwhJhwUgaGyYOg',\n",
       "  'alias': 'snack-shack-spartanburg',\n",
       "  'name': 'Snack Shack',\n",
       "  'image_url': 'https://s3-media3.fl.yelpcdn.com/bphoto/L4hBT3qw4Ad4vv3p5-bfoQ/o.jpg',\n",
       "  'is_closed': False,\n",
       "  'url': 'https://www.yelp.com/biz/snack-shack-spartanburg?adjust_creative=GV_7iPHdUYLiLqCJG46o1w&utm_campaign=yelp_api_v3&utm_medium=api_v3_business_search&utm_source=GV_7iPHdUYLiLqCJG46o1w',\n",
       "  'review_count': 16,\n",
       "  'categories': [{'alias': 'food_court', 'title': 'Food Court'},\n",
       "   {'alias': 'diners', 'title': 'Diners'}],\n",
       "  'rating': 4.5,\n",
       "  'coordinates': {'latitude': 34.98714, 'longitude': -81.92256},\n",
       "  'transactions': [],\n",
       "  'location': {'address1': '1982 Chesnee Hwy',\n",
       "   'address2': '',\n",
       "   'address3': None,\n",
       "   'city': 'Spartanburg',\n",
       "   'zip_code': '29303',\n",
       "   'country': 'US',\n",
       "   'state': 'SC',\n",
       "   'display_address': ['1982 Chesnee Hwy', 'Spartanburg, SC 29303']},\n",
       "  'phone': '+18645865551',\n",
       "  'display_phone': '(864) 586-5551',\n",
       "  'distance': 4964.682101949429}]"
      ]
     },
     "execution_count": 6,
     "metadata": {},
     "output_type": "execute_result"
    }
   ],
   "source": [
    "resp.json()['businesses'][:2] #list of dictionaries"
   ]
  },
  {
   "cell_type": "code",
   "execution_count": 7,
   "metadata": {},
   "outputs": [
    {
     "data": {
      "text/plain": [
       "50"
      ]
     },
     "execution_count": 7,
     "metadata": {},
     "output_type": "execute_result"
    }
   ],
   "source": [
    "len(resp.json()['businesses'])"
   ]
  },
  {
   "cell_type": "code",
   "execution_count": 8,
   "metadata": {
    "scrolled": false
   },
   "outputs": [
    {
     "data": {
      "text/plain": [
       "{'center': {'longitude': -81.92848205566406, 'latitude': 34.9427560353289}}"
      ]
     },
     "execution_count": 8,
     "metadata": {},
     "output_type": "execute_result"
    }
   ],
   "source": [
    "resp.json()['region']"
   ]
  },
  {
   "cell_type": "code",
   "execution_count": 9,
   "metadata": {},
   "outputs": [],
   "source": [
    "import time \n",
    "\n",
    "def yelp_query(term,location,api_key,offset=0):\n",
    "    url='https://api.yelp.com/v3/businesses/search'\n",
    "    headers={'Authorization': 'Bearer {}'.format(api_key)}\n",
    "    url_params={'term': term.replace(' ', '+'),'location': location.replace(' ','+'),'limit':50,'offset':offset}\n",
    "    response=requests.get(url, headers=headers, params=url_params)\n",
    "    return response\n",
    "\n",
    "    \n",
    "def get_all_results(term,location,api_key):\n",
    "    response=yelp_query(term,location,api_key)\n",
    "    total=response.json()['total']\n",
    "    business_list=response.json()['businesses']\n",
    "    current_results=len(business_list)\n",
    "    while current_results < total:\n",
    "        next_response=yelp_query(term,location,api_key,current_results)\n",
    "        business_list=business_list+next_response.json()['businesses']\n",
    "        current_results=len(business_list)\n",
    "    return business_list"
   ]
  },
  {
   "cell_type": "code",
   "execution_count": 10,
   "metadata": {},
   "outputs": [],
   "source": [
    "spt_restaurants=get_all_results('food','Spartanburg SC',api_key)"
   ]
  },
  {
   "cell_type": "code",
   "execution_count": 11,
   "metadata": {
    "scrolled": true
   },
   "outputs": [
    {
     "data": {
      "text/plain": [
       "603"
      ]
     },
     "execution_count": 11,
     "metadata": {},
     "output_type": "execute_result"
    }
   ],
   "source": [
    "len(spt_restaurants)"
   ]
  },
  {
   "cell_type": "code",
   "execution_count": 12,
   "metadata": {
    "scrolled": false
   },
   "outputs": [
    {
     "data": {
      "text/html": [
       "<div>\n",
       "<style scoped>\n",
       "    .dataframe tbody tr th:only-of-type {\n",
       "        vertical-align: middle;\n",
       "    }\n",
       "\n",
       "    .dataframe tbody tr th {\n",
       "        vertical-align: top;\n",
       "    }\n",
       "\n",
       "    .dataframe thead th {\n",
       "        text-align: right;\n",
       "    }\n",
       "</style>\n",
       "<table border=\"1\" class=\"dataframe\">\n",
       "  <thead>\n",
       "    <tr style=\"text-align: right;\">\n",
       "      <th></th>\n",
       "      <th>alias</th>\n",
       "      <th>categories</th>\n",
       "      <th>coordinates</th>\n",
       "      <th>display_phone</th>\n",
       "      <th>distance</th>\n",
       "      <th>id</th>\n",
       "      <th>image_url</th>\n",
       "      <th>is_closed</th>\n",
       "      <th>location</th>\n",
       "      <th>name</th>\n",
       "      <th>phone</th>\n",
       "      <th>price</th>\n",
       "      <th>rating</th>\n",
       "      <th>review_count</th>\n",
       "      <th>transactions</th>\n",
       "      <th>url</th>\n",
       "    </tr>\n",
       "  </thead>\n",
       "  <tbody>\n",
       "    <tr>\n",
       "      <th>0</th>\n",
       "      <td>the-farmers-table-spartanburg</td>\n",
       "      <td>[{'alias': 'breakfast_brunch', 'title': 'Break...</td>\n",
       "      <td>{'latitude': 34.94733, 'longitude': -81.93411}</td>\n",
       "      <td>(864) 582-6554</td>\n",
       "      <td>713.416609</td>\n",
       "      <td>u08NsW2Fy9K4DohR1UeVdg</td>\n",
       "      <td>https://s3-media2.fl.yelpcdn.com/bphoto/OpXoS4...</td>\n",
       "      <td>False</td>\n",
       "      <td>{'address1': '149 South Daniel Morgan Ave', 'a...</td>\n",
       "      <td>The Farmer's Table</td>\n",
       "      <td>+18645826554</td>\n",
       "      <td>$$</td>\n",
       "      <td>4.0</td>\n",
       "      <td>300</td>\n",
       "      <td>[]</td>\n",
       "      <td>https://www.yelp.com/biz/the-farmers-table-spa...</td>\n",
       "    </tr>\n",
       "    <tr>\n",
       "      <th>1</th>\n",
       "      <td>snack-shack-spartanburg</td>\n",
       "      <td>[{'alias': 'food_court', 'title': 'Food Court'...</td>\n",
       "      <td>{'latitude': 34.98714, 'longitude': -81.92256}</td>\n",
       "      <td>(864) 586-5551</td>\n",
       "      <td>4964.682102</td>\n",
       "      <td>34vmCMgxCwhJhwUgaGyYOg</td>\n",
       "      <td>https://s3-media3.fl.yelpcdn.com/bphoto/L4hBT3...</td>\n",
       "      <td>False</td>\n",
       "      <td>{'address1': '1982 Chesnee Hwy', 'address2': '...</td>\n",
       "      <td>Snack Shack</td>\n",
       "      <td>+18645865551</td>\n",
       "      <td>NaN</td>\n",
       "      <td>4.5</td>\n",
       "      <td>16</td>\n",
       "      <td>[]</td>\n",
       "      <td>https://www.yelp.com/biz/snack-shack-spartanbu...</td>\n",
       "    </tr>\n",
       "    <tr>\n",
       "      <th>2</th>\n",
       "      <td>cribbs-kitchen-spartanburg</td>\n",
       "      <td>[{'alias': 'southern', 'title': 'Southern'}]</td>\n",
       "      <td>{'latitude': 34.94864, 'longitude': -81.93573}</td>\n",
       "      <td>(864) 699-9669</td>\n",
       "      <td>927.191113</td>\n",
       "      <td>s2qhEppd6QV8r2AjWmgjGQ</td>\n",
       "      <td>https://s3-media2.fl.yelpcdn.com/bphoto/hqbRlD...</td>\n",
       "      <td>False</td>\n",
       "      <td>{'address1': '226 B W Main St', 'address2': ''...</td>\n",
       "      <td>Cribbs Kitchen</td>\n",
       "      <td>+18646999669</td>\n",
       "      <td>$$</td>\n",
       "      <td>4.0</td>\n",
       "      <td>301</td>\n",
       "      <td>[]</td>\n",
       "      <td>https://www.yelp.com/biz/cribbs-kitchen-sparta...</td>\n",
       "    </tr>\n",
       "    <tr>\n",
       "      <th>3</th>\n",
       "      <td>monsoon-noodle-house-spartanburg</td>\n",
       "      <td>[{'alias': 'noodles', 'title': 'Noodles'}, {'a...</td>\n",
       "      <td>{'latitude': 34.949137, 'longitude': -81.932463}</td>\n",
       "      <td>(864) 582-0618</td>\n",
       "      <td>796.925229</td>\n",
       "      <td>8w0sQG0JZyLNBFs9TGlC-A</td>\n",
       "      <td>https://s3-media2.fl.yelpcdn.com/bphoto/bhI_X8...</td>\n",
       "      <td>False</td>\n",
       "      <td>{'address1': '129 W Main St', 'address2': '', ...</td>\n",
       "      <td>Monsoon Noodle House</td>\n",
       "      <td>+18645820618</td>\n",
       "      <td>$</td>\n",
       "      <td>4.0</td>\n",
       "      <td>155</td>\n",
       "      <td>[]</td>\n",
       "      <td>https://www.yelp.com/biz/monsoon-noodle-house-...</td>\n",
       "    </tr>\n",
       "    <tr>\n",
       "      <th>4</th>\n",
       "      <td>the-8-6-pho-boiling-springs</td>\n",
       "      <td>[{'alias': 'asianfusion', 'title': 'Asian Fusi...</td>\n",
       "      <td>{'latitude': 35.05273, 'longitude': -81.98873}</td>\n",
       "      <td>(864) 804-6208</td>\n",
       "      <td>13403.493559</td>\n",
       "      <td>pzwImWiHPa1nGvVso2U9dQ</td>\n",
       "      <td>https://s3-media4.fl.yelpcdn.com/bphoto/A5U5Es...</td>\n",
       "      <td>False</td>\n",
       "      <td>{'address1': '4082 SC-9', 'address2': '', 'add...</td>\n",
       "      <td>The 8.6. Pho</td>\n",
       "      <td>+18648046208</td>\n",
       "      <td>NaN</td>\n",
       "      <td>4.0</td>\n",
       "      <td>10</td>\n",
       "      <td>[pickup, delivery]</td>\n",
       "      <td>https://www.yelp.com/biz/the-8-6-pho-boiling-s...</td>\n",
       "    </tr>\n",
       "  </tbody>\n",
       "</table>\n",
       "</div>"
      ],
      "text/plain": [
       "                              alias  \\\n",
       "0     the-farmers-table-spartanburg   \n",
       "1           snack-shack-spartanburg   \n",
       "2        cribbs-kitchen-spartanburg   \n",
       "3  monsoon-noodle-house-spartanburg   \n",
       "4       the-8-6-pho-boiling-springs   \n",
       "\n",
       "                                          categories  \\\n",
       "0  [{'alias': 'breakfast_brunch', 'title': 'Break...   \n",
       "1  [{'alias': 'food_court', 'title': 'Food Court'...   \n",
       "2       [{'alias': 'southern', 'title': 'Southern'}]   \n",
       "3  [{'alias': 'noodles', 'title': 'Noodles'}, {'a...   \n",
       "4  [{'alias': 'asianfusion', 'title': 'Asian Fusi...   \n",
       "\n",
       "                                        coordinates   display_phone  \\\n",
       "0    {'latitude': 34.94733, 'longitude': -81.93411}  (864) 582-6554   \n",
       "1    {'latitude': 34.98714, 'longitude': -81.92256}  (864) 586-5551   \n",
       "2    {'latitude': 34.94864, 'longitude': -81.93573}  (864) 699-9669   \n",
       "3  {'latitude': 34.949137, 'longitude': -81.932463}  (864) 582-0618   \n",
       "4    {'latitude': 35.05273, 'longitude': -81.98873}  (864) 804-6208   \n",
       "\n",
       "       distance                      id  \\\n",
       "0    713.416609  u08NsW2Fy9K4DohR1UeVdg   \n",
       "1   4964.682102  34vmCMgxCwhJhwUgaGyYOg   \n",
       "2    927.191113  s2qhEppd6QV8r2AjWmgjGQ   \n",
       "3    796.925229  8w0sQG0JZyLNBFs9TGlC-A   \n",
       "4  13403.493559  pzwImWiHPa1nGvVso2U9dQ   \n",
       "\n",
       "                                           image_url  is_closed  \\\n",
       "0  https://s3-media2.fl.yelpcdn.com/bphoto/OpXoS4...      False   \n",
       "1  https://s3-media3.fl.yelpcdn.com/bphoto/L4hBT3...      False   \n",
       "2  https://s3-media2.fl.yelpcdn.com/bphoto/hqbRlD...      False   \n",
       "3  https://s3-media2.fl.yelpcdn.com/bphoto/bhI_X8...      False   \n",
       "4  https://s3-media4.fl.yelpcdn.com/bphoto/A5U5Es...      False   \n",
       "\n",
       "                                            location                  name  \\\n",
       "0  {'address1': '149 South Daniel Morgan Ave', 'a...    The Farmer's Table   \n",
       "1  {'address1': '1982 Chesnee Hwy', 'address2': '...           Snack Shack   \n",
       "2  {'address1': '226 B W Main St', 'address2': ''...        Cribbs Kitchen   \n",
       "3  {'address1': '129 W Main St', 'address2': '', ...  Monsoon Noodle House   \n",
       "4  {'address1': '4082 SC-9', 'address2': '', 'add...          The 8.6. Pho   \n",
       "\n",
       "          phone price  rating  review_count        transactions  \\\n",
       "0  +18645826554    $$     4.0           300                  []   \n",
       "1  +18645865551   NaN     4.5            16                  []   \n",
       "2  +18646999669    $$     4.0           301                  []   \n",
       "3  +18645820618     $     4.0           155                  []   \n",
       "4  +18648046208   NaN     4.0            10  [pickup, delivery]   \n",
       "\n",
       "                                                 url  \n",
       "0  https://www.yelp.com/biz/the-farmers-table-spa...  \n",
       "1  https://www.yelp.com/biz/snack-shack-spartanbu...  \n",
       "2  https://www.yelp.com/biz/cribbs-kitchen-sparta...  \n",
       "3  https://www.yelp.com/biz/monsoon-noodle-house-...  \n",
       "4  https://www.yelp.com/biz/the-8-6-pho-boiling-s...  "
      ]
     },
     "execution_count": 12,
     "metadata": {},
     "output_type": "execute_result"
    }
   ],
   "source": [
    "df=pd.DataFrame(spt_restaurants)\n",
    "df.head()"
   ]
  },
  {
   "cell_type": "markdown",
   "metadata": {},
   "source": [
    "## Finding a restaurant for dinner tonight  \n",
    "### What categories are available?"
   ]
  },
  {
   "cell_type": "code",
   "execution_count": 13,
   "metadata": {
    "scrolled": false
   },
   "outputs": [
    {
     "data": {
      "text/plain": [
       "{'arcades',\n",
       " 'asianfusion',\n",
       " 'austrian',\n",
       " 'bagels',\n",
       " 'bakeries',\n",
       " 'bars',\n",
       " 'bbq',\n",
       " 'beer_and_wine',\n",
       " 'beerbar',\n",
       " 'beergardens',\n",
       " 'breakfast_brunch',\n",
       " 'breweries',\n",
       " 'brewpubs',\n",
       " 'buffets',\n",
       " 'burgers',\n",
       " 'butcher',\n",
       " 'cafes',\n",
       " 'cajun',\n",
       " 'cakeshop',\n",
       " 'cambodian',\n",
       " 'candy',\n",
       " 'cantonese',\n",
       " 'catering',\n",
       " 'cheesesteaks',\n",
       " 'chicken_wings',\n",
       " 'chickenshop',\n",
       " 'chinese',\n",
       " 'chocolate',\n",
       " 'cideries',\n",
       " 'coffee',\n",
       " 'coffeeroasteries',\n",
       " 'colombian',\n",
       " 'convenience',\n",
       " 'cosmetics',\n",
       " 'creperies',\n",
       " 'cuban',\n",
       " 'cupcakes',\n",
       " 'customcakes',\n",
       " 'custommerchandise',\n",
       " 'delis',\n",
       " 'deptstores',\n",
       " 'desserts',\n",
       " 'diners',\n",
       " 'distilleries',\n",
       " 'donuts',\n",
       " 'drugstores',\n",
       " 'farmersmarket',\n",
       " 'florists',\n",
       " 'food_court',\n",
       " 'fooddeliveryservices',\n",
       " 'foodstands',\n",
       " 'foodtrucks',\n",
       " 'french',\n",
       " 'gardening',\n",
       " 'giftshops',\n",
       " 'gluten_free',\n",
       " 'golf',\n",
       " 'gourmet',\n",
       " 'greek',\n",
       " 'grocery',\n",
       " 'hawaiian',\n",
       " 'healthmarkets',\n",
       " 'honduran',\n",
       " 'hotdog',\n",
       " 'hotdogs',\n",
       " 'icecream',\n",
       " 'importedfood',\n",
       " 'indoor_playcenter',\n",
       " 'irish',\n",
       " 'italian',\n",
       " 'japanese',\n",
       " 'juicebars',\n",
       " 'latin',\n",
       " 'lounges',\n",
       " 'markets',\n",
       " 'meats',\n",
       " 'mediterranean',\n",
       " 'mexican',\n",
       " 'musicvenues',\n",
       " 'newamerican',\n",
       " 'noodles',\n",
       " 'oliveoil',\n",
       " 'organic_stores',\n",
       " 'panasian',\n",
       " 'pizza',\n",
       " 'poke',\n",
       " 'pretzels',\n",
       " 'pubs',\n",
       " 'restaurants',\n",
       " 'salad',\n",
       " 'sandwiches',\n",
       " 'seafood',\n",
       " 'seafoodmarkets',\n",
       " 'servicestations',\n",
       " 'shavedice',\n",
       " 'shavedsnow',\n",
       " 'smokehouse',\n",
       " 'soulfood',\n",
       " 'soup',\n",
       " 'southern',\n",
       " 'sportsbars',\n",
       " 'steak',\n",
       " 'streetvendors',\n",
       " 'sushi',\n",
       " 'szechuan',\n",
       " 'tacos',\n",
       " 'tex-mex',\n",
       " 'thai',\n",
       " 'tobaccoshops',\n",
       " 'tradamerican',\n",
       " 'venues',\n",
       " 'vietnamese',\n",
       " 'waffles',\n",
       " 'whiskeybars',\n",
       " 'wholesale_stores',\n",
       " 'wine_bars'}"
      ]
     },
     "execution_count": 13,
     "metadata": {},
     "output_type": "execute_result"
    }
   ],
   "source": [
    "def get_categories(series):\n",
    "    categories=[]\n",
    "    for i in range(len(series)):\n",
    "        for j in range(len(series[i])):\n",
    "            categories.append(series[i][j]['alias'])\n",
    "    return categories\n",
    "all_categories=get_categories(df['categories'])\n",
    "all_categories.sort()\n",
    "set(all_categories)"
   ]
  },
  {
   "cell_type": "code",
   "execution_count": 14,
   "metadata": {
    "scrolled": true
   },
   "outputs": [
    {
     "data": {
      "text/plain": [
       "['Dudleys',\n",
       " 'The Peddler Steak House',\n",
       " 'Grille 221',\n",
       " \"Basil's B52\",\n",
       " 'CityRange Steakhouse Grill',\n",
       " 'Texas Roadhouse',\n",
       " \"Phil's Steakhouse\",\n",
       " \"Demetre's Gourmet Grille & Bar\",\n",
       " 'LongHorn Steakhouse',\n",
       " \"Carter's Steak and Seafood\",\n",
       " 'Los Mexicanos Restaurante',\n",
       " 'Outback Steakhouse']"
      ]
     },
     "execution_count": 14,
     "metadata": {},
     "output_type": "execute_result"
    }
   ],
   "source": [
    "restaurants=[]\n",
    "series=df['categories']\n",
    "for i in range(len(series)):\n",
    "    for j in range(len(series[i])):\n",
    "        if series[i][j]['alias']=='steak':\n",
    "            restaurants.append(df['name'][i])\n",
    "        else:\n",
    "            continue\n",
    "restaurants"
   ]
  },
  {
   "cell_type": "code",
   "execution_count": 15,
   "metadata": {},
   "outputs": [
    {
     "data": {
      "text/html": [
       "<div>\n",
       "<style scoped>\n",
       "    .dataframe tbody tr th:only-of-type {\n",
       "        vertical-align: middle;\n",
       "    }\n",
       "\n",
       "    .dataframe tbody tr th {\n",
       "        vertical-align: top;\n",
       "    }\n",
       "\n",
       "    .dataframe thead th {\n",
       "        text-align: right;\n",
       "    }\n",
       "</style>\n",
       "<table border=\"1\" class=\"dataframe\">\n",
       "  <thead>\n",
       "    <tr style=\"text-align: right;\">\n",
       "      <th></th>\n",
       "      <th>name</th>\n",
       "      <th>price</th>\n",
       "      <th>rating</th>\n",
       "    </tr>\n",
       "  </thead>\n",
       "  <tbody>\n",
       "    <tr>\n",
       "      <th>35</th>\n",
       "      <td>Dudleys</td>\n",
       "      <td>$$</td>\n",
       "      <td>4.0</td>\n",
       "    </tr>\n",
       "    <tr>\n",
       "      <th>98</th>\n",
       "      <td>The Peddler Steak House</td>\n",
       "      <td>$$$</td>\n",
       "      <td>3.5</td>\n",
       "    </tr>\n",
       "    <tr>\n",
       "      <th>110</th>\n",
       "      <td>Grille 221</td>\n",
       "      <td>$</td>\n",
       "      <td>4.0</td>\n",
       "    </tr>\n",
       "    <tr>\n",
       "      <th>127</th>\n",
       "      <td>Basil's B52</td>\n",
       "      <td>$$</td>\n",
       "      <td>4.0</td>\n",
       "    </tr>\n",
       "    <tr>\n",
       "      <th>138</th>\n",
       "      <td>CityRange Steakhouse Grill</td>\n",
       "      <td>$$</td>\n",
       "      <td>3.5</td>\n",
       "    </tr>\n",
       "    <tr>\n",
       "      <th>172</th>\n",
       "      <td>Texas Roadhouse</td>\n",
       "      <td>$$</td>\n",
       "      <td>3.0</td>\n",
       "    </tr>\n",
       "    <tr>\n",
       "      <th>211</th>\n",
       "      <td>Phil's Steakhouse</td>\n",
       "      <td>NaN</td>\n",
       "      <td>4.5</td>\n",
       "    </tr>\n",
       "    <tr>\n",
       "      <th>229</th>\n",
       "      <td>Demetre's Gourmet Grille &amp; Bar</td>\n",
       "      <td>$$</td>\n",
       "      <td>3.5</td>\n",
       "    </tr>\n",
       "    <tr>\n",
       "      <th>239</th>\n",
       "      <td>LongHorn Steakhouse</td>\n",
       "      <td>$$</td>\n",
       "      <td>3.0</td>\n",
       "    </tr>\n",
       "    <tr>\n",
       "      <th>255</th>\n",
       "      <td>Carter's Steak and Seafood</td>\n",
       "      <td>$$</td>\n",
       "      <td>3.0</td>\n",
       "    </tr>\n",
       "    <tr>\n",
       "      <th>268</th>\n",
       "      <td>Los Mexicanos Restaurante</td>\n",
       "      <td>$</td>\n",
       "      <td>3.0</td>\n",
       "    </tr>\n",
       "    <tr>\n",
       "      <th>302</th>\n",
       "      <td>Outback Steakhouse</td>\n",
       "      <td>$$</td>\n",
       "      <td>3.0</td>\n",
       "    </tr>\n",
       "  </tbody>\n",
       "</table>\n",
       "</div>"
      ],
      "text/plain": [
       "                               name price  rating\n",
       "35                          Dudleys    $$     4.0\n",
       "98          The Peddler Steak House   $$$     3.5\n",
       "110                      Grille 221     $     4.0\n",
       "127                     Basil's B52    $$     4.0\n",
       "138      CityRange Steakhouse Grill    $$     3.5\n",
       "172                 Texas Roadhouse    $$     3.0\n",
       "211               Phil's Steakhouse   NaN     4.5\n",
       "229  Demetre's Gourmet Grille & Bar    $$     3.5\n",
       "239             LongHorn Steakhouse    $$     3.0\n",
       "255      Carter's Steak and Seafood    $$     3.0\n",
       "268       Los Mexicanos Restaurante     $     3.0\n",
       "302              Outback Steakhouse    $$     3.0"
      ]
     },
     "execution_count": 15,
     "metadata": {},
     "output_type": "execute_result"
    }
   ],
   "source": [
    "steak=['Dudleys',\n",
    " 'The Peddler Steak House',\n",
    " 'Grille 221',\n",
    " \"Basil's B52\",\n",
    " 'CityRange Steakhouse Grill',\n",
    " 'Texas Roadhouse',\n",
    " \"Phil's Steakhouse\",\n",
    " \"Demetre's Gourmet Grille & Bar\",\n",
    " 'LongHorn Steakhouse',\n",
    " \"Carter's Steak and Seafood\",\n",
    " 'Los Mexicanos Restaurante',\n",
    " 'Outback Steakhouse']\n",
    "steak_places=df.loc[df['name'].isin(steak)]\n",
    "steak_places[['name','price','rating']]"
   ]
  },
  {
   "cell_type": "markdown",
   "metadata": {},
   "source": [
    "## Exploratory Analysis\n",
    "\n",
    "Take the restaurants from the previous question and do an initial exploratory analysis. At minimum, this should include looking at the distribution of features such as price, rating and number of reviews as well as the relations between these dimensions."
   ]
  },
  {
   "cell_type": "code",
   "execution_count": 16,
   "metadata": {
    "scrolled": true
   },
   "outputs": [
    {
     "data": {
      "text/plain": [
       "alias              0\n",
       "categories         0\n",
       "coordinates        0\n",
       "display_phone      0\n",
       "distance           0\n",
       "id                 0\n",
       "image_url          0\n",
       "is_closed          0\n",
       "location           0\n",
       "name               0\n",
       "phone              0\n",
       "price            169\n",
       "rating             0\n",
       "review_count       0\n",
       "transactions       0\n",
       "url                0\n",
       "dtype: int64"
      ]
     },
     "execution_count": 16,
     "metadata": {},
     "output_type": "execute_result"
    }
   ],
   "source": [
    "#Your code here\n",
    "df.isna().sum()"
   ]
  },
  {
   "cell_type": "code",
   "execution_count": 17,
   "metadata": {
    "scrolled": true
   },
   "outputs": [
    {
     "data": {
      "image/png": "[encoded data removed]",
      "text/plain": [
       "<Figure size 432x288 with 1 Axes>"
      ]
     },
     "metadata": {
      "needs_background": "light"
     },
     "output_type": "display_data"
    }
   ],
   "source": [
    "df.rating.hist();"
   ]
  },
  {
   "cell_type": "code",
   "execution_count": 18,
   "metadata": {
    "scrolled": false
   },
   "outputs": [
    {
     "name": "stderr",
     "output_type": "stream",
     "text": [
      "C:\\Users\\alvar\\AppData\\Local\\Continuum\\anaconda3\\lib\\site-packages\\numpy\\lib\\histograms.py:778: RuntimeWarning: Converting input from bool to <class 'numpy.uint8'> for compatibility.\n",
      "  a, weights = _ravel_and_check_weights(a, weights)\n"
     ]
    },
    {
     "data": {
      "image/png": "[encoded data removed]",
      "text/plain": [
       "<Figure size 432x288 with 4 Axes>"
      ]
     },
     "metadata": {
      "needs_background": "light"
     },
     "output_type": "display_data"
    }
   ],
   "source": [
    "df.hist();"
   ]
  },
  {
   "cell_type": "code",
   "execution_count": 19,
   "metadata": {
    "scrolled": true
   },
   "outputs": [
    {
     "data": {
      "image/png": "[encoded data removed]",
      "text/plain": [
       "<Figure size 432x288 with 4 Axes>"
      ]
     },
     "metadata": {
      "needs_background": "light"
     },
     "output_type": "display_data"
    }
   ],
   "source": [
    "pd.plotting.scatter_matrix(df[['price','rating','review_count']]);"
   ]
  },
  {
   "cell_type": "code",
   "execution_count": 20,
   "metadata": {},
   "outputs": [
    {
     "data": {
      "text/plain": [
       "169"
      ]
     },
     "execution_count": 20,
     "metadata": {},
     "output_type": "execute_result"
    }
   ],
   "source": [
    "df.price.isna().sum()"
   ]
  },
  {
   "cell_type": "code",
   "execution_count": 21,
   "metadata": {},
   "outputs": [],
   "source": [
    "df.dropna(subset=[\"price\"],inplace=True)"
   ]
  },
  {
   "cell_type": "code",
   "execution_count": 22,
   "metadata": {},
   "outputs": [],
   "source": [
    "df.loc[df[\"price\"]=='$', \"price_level\"] = 1\n",
    "df.loc[df[\"price\"]=='$$', \"price_level\"] = 2\n",
    "df.loc[df[\"price\"]=='$$$', \"price_level\"] = 3\n",
    "df.loc[df[\"price\"]=='$$$$', \"price_level\"] = 4"
   ]
  },
  {
   "cell_type": "code",
   "execution_count": 23,
   "metadata": {},
   "outputs": [
    {
     "data": {
      "image/png": "[encoded data removed]",
      "text/plain": [
       "<Figure size 432x288 with 9 Axes>"
      ]
     },
     "metadata": {
      "needs_background": "light"
     },
     "output_type": "display_data"
    }
   ],
   "source": [
    "pd.plotting.scatter_matrix(df[['price_level','rating','review_count']]);"
   ]
  },
  {
   "cell_type": "markdown",
   "metadata": {},
   "source": [
    "## Mapping\n",
    "\n",
    "Look at the initial Yelp example and try and make a map using Folium of the restaurants you retrieved. Be sure to also add popups to the markers giving some basic information such as name, rating and price."
   ]
  },
  {
   "cell_type": "code",
   "execution_count": 24,
   "metadata": {
    "scrolled": false
   },
   "outputs": [
    {
     "data": {
      "text/html": [
       "<div style=\"width:100%;\"><div style=\"position:relative;width:100%;height:0;padding-bottom:60%;\"><iframe src=\"data:text/html;charset=utf-8;base64,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\" style=\"position:absolute;width:100%;height:100%;left:0;top:0;border:none !important;\" allowfullscreen webkitallowfullscreen mozallowfullscreen></iframe></div></div>"
      ],
      "text/plain": [
       "<folium.folium.Map at 0x161f7cd9978>"
      ]
     },
     "execution_count": 24,
     "metadata": {},
     "output_type": "execute_result"
    }
   ],
   "source": [
    "#Your code here\n",
    "import folium\n",
    "\n",
    "lat = 34.94\n",
    "long = -81.93\n",
    "\n",
    "base_map = folium.Map([lat, long], zoom_start=13)\n",
    "base_map"
   ]
  },
  {
   "cell_type": "code",
   "execution_count": 25,
   "metadata": {
    "scrolled": true
   },
   "outputs": [
    {
     "data": {
      "text/html": [
       "<div>\n",
       "<style scoped>\n",
       "    .dataframe tbody tr th:only-of-type {\n",
       "        vertical-align: middle;\n",
       "    }\n",
       "\n",
       "    .dataframe tbody tr th {\n",
       "        vertical-align: top;\n",
       "    }\n",
       "\n",
       "    .dataframe thead th {\n",
       "        text-align: right;\n",
       "    }\n",
       "</style>\n",
       "<table border=\"1\" class=\"dataframe\">\n",
       "  <thead>\n",
       "    <tr style=\"text-align: right;\">\n",
       "      <th></th>\n",
       "      <th>alias</th>\n",
       "      <th>categories</th>\n",
       "      <th>coordinates</th>\n",
       "      <th>display_phone</th>\n",
       "      <th>distance</th>\n",
       "      <th>id</th>\n",
       "      <th>image_url</th>\n",
       "      <th>is_closed</th>\n",
       "      <th>location</th>\n",
       "      <th>name</th>\n",
       "      <th>phone</th>\n",
       "      <th>price</th>\n",
       "      <th>rating</th>\n",
       "      <th>review_count</th>\n",
       "      <th>transactions</th>\n",
       "      <th>url</th>\n",
       "    </tr>\n",
       "  </thead>\n",
       "  <tbody>\n",
       "    <tr>\n",
       "      <th>35</th>\n",
       "      <td>dudleys-spartanburg</td>\n",
       "      <td>[{'alias': 'newamerican', 'title': 'American (...</td>\n",
       "      <td>{'latitude': 34.96595, 'longitude': -81.89096}</td>\n",
       "      <td>(864) 573-2626</td>\n",
       "      <td>4297.401415</td>\n",
       "      <td>qmPu3fby6luSaVXZC-zWFQ</td>\n",
       "      <td>https://s3-media1.fl.yelpcdn.com/bphoto/0b_uVy...</td>\n",
       "      <td>False</td>\n",
       "      <td>{'address1': '1055 Fernwood Glendale Rd', 'add...</td>\n",
       "      <td>Dudleys</td>\n",
       "      <td>+18645732626</td>\n",
       "      <td>$$</td>\n",
       "      <td>4.0</td>\n",
       "      <td>55</td>\n",
       "      <td>[]</td>\n",
       "      <td>https://www.yelp.com/biz/dudleys-spartanburg?a...</td>\n",
       "    </tr>\n",
       "    <tr>\n",
       "      <th>98</th>\n",
       "      <td>the-peddler-steak-house-spartanburg</td>\n",
       "      <td>[{'alias': 'steak', 'title': 'Steakhouses'}, {...</td>\n",
       "      <td>{'latitude': 34.949044, 'longitude': -81.933125}</td>\n",
       "      <td>(864) 583-5874</td>\n",
       "      <td>817.282097</td>\n",
       "      <td>WVaJGwGHL1i4Xk6-a2fLZw</td>\n",
       "      <td>https://s3-media3.fl.yelpcdn.com/bphoto/pPZKCF...</td>\n",
       "      <td>False</td>\n",
       "      <td>{'address1': '149 W Main St', 'address2': None...</td>\n",
       "      <td>The Peddler Steak House</td>\n",
       "      <td>+18645835874</td>\n",
       "      <td>$$$</td>\n",
       "      <td>3.5</td>\n",
       "      <td>33</td>\n",
       "      <td>[]</td>\n",
       "      <td>https://www.yelp.com/biz/the-peddler-steak-hou...</td>\n",
       "    </tr>\n",
       "    <tr>\n",
       "      <th>110</th>\n",
       "      <td>grille-221-roebuck</td>\n",
       "      <td>[{'alias': 'steak', 'title': 'Steakhouses'}, {...</td>\n",
       "      <td>{'latitude': 34.871111, 'longitude': -81.958189}</td>\n",
       "      <td>(864) 595-1178</td>\n",
       "      <td>8414.534186</td>\n",
       "      <td>r7T-_XpRLCoFncvuekuu8A</td>\n",
       "      <td>https://s3-media1.fl.yelpcdn.com/bphoto/8RfUId...</td>\n",
       "      <td>False</td>\n",
       "      <td>{'address1': '4795 S Church Street Ext', 'addr...</td>\n",
       "      <td>Grille 221</td>\n",
       "      <td>+18645951178</td>\n",
       "      <td>$</td>\n",
       "      <td>4.0</td>\n",
       "      <td>4</td>\n",
       "      <td>[]</td>\n",
       "      <td>https://www.yelp.com/biz/grille-221-roebuck?ad...</td>\n",
       "    </tr>\n",
       "    <tr>\n",
       "      <th>127</th>\n",
       "      <td>basils-b52-spartanburg</td>\n",
       "      <td>[{'alias': 'steak', 'title': 'Steakhouses'}, {...</td>\n",
       "      <td>{'latitude': 34.96774, 'longitude': -81.92912}</td>\n",
       "      <td>(864) 583-5989</td>\n",
       "      <td>2758.464326</td>\n",
       "      <td>0og9VqApjjycm1YUBvWC0g</td>\n",
       "      <td>https://s3-media4.fl.yelpcdn.com/bphoto/_8904y...</td>\n",
       "      <td>False</td>\n",
       "      <td>{'address1': '110 Garner Rd', 'address2': '', ...</td>\n",
       "      <td>Basil's B52</td>\n",
       "      <td>+18645835989</td>\n",
       "      <td>$$</td>\n",
       "      <td>4.0</td>\n",
       "      <td>7</td>\n",
       "      <td>[]</td>\n",
       "      <td>https://www.yelp.com/biz/basils-b52-spartanbur...</td>\n",
       "    </tr>\n",
       "    <tr>\n",
       "      <th>138</th>\n",
       "      <td>cityrange-steakhouse-grill-spartanburg</td>\n",
       "      <td>[{'alias': 'steak', 'title': 'Steakhouses'}, {...</td>\n",
       "      <td>{'latitude': 34.94244, 'longitude': -81.99741}</td>\n",
       "      <td>(864) 327-3333</td>\n",
       "      <td>6282.689255</td>\n",
       "      <td>OdGGmoiQAhZ3CZnJV1d5yQ</td>\n",
       "      <td>https://s3-media4.fl.yelpcdn.com/bphoto/2agaju...</td>\n",
       "      <td>False</td>\n",
       "      <td>{'address1': '774 Spartan Bvld', 'address2': N...</td>\n",
       "      <td>CityRange Steakhouse Grill</td>\n",
       "      <td>+18643273333</td>\n",
       "      <td>$$</td>\n",
       "      <td>3.5</td>\n",
       "      <td>128</td>\n",
       "      <td>[]</td>\n",
       "      <td>https://www.yelp.com/biz/cityrange-steakhouse-...</td>\n",
       "    </tr>\n",
       "  </tbody>\n",
       "</table>\n",
       "</div>"
      ],
      "text/plain": [
       "                                      alias  \\\n",
       "35                      dudleys-spartanburg   \n",
       "98      the-peddler-steak-house-spartanburg   \n",
       "110                      grille-221-roebuck   \n",
       "127                  basils-b52-spartanburg   \n",
       "138  cityrange-steakhouse-grill-spartanburg   \n",
       "\n",
       "                                            categories  \\\n",
       "35   [{'alias': 'newamerican', 'title': 'American (...   \n",
       "98   [{'alias': 'steak', 'title': 'Steakhouses'}, {...   \n",
       "110  [{'alias': 'steak', 'title': 'Steakhouses'}, {...   \n",
       "127  [{'alias': 'steak', 'title': 'Steakhouses'}, {...   \n",
       "138  [{'alias': 'steak', 'title': 'Steakhouses'}, {...   \n",
       "\n",
       "                                          coordinates   display_phone  \\\n",
       "35     {'latitude': 34.96595, 'longitude': -81.89096}  (864) 573-2626   \n",
       "98   {'latitude': 34.949044, 'longitude': -81.933125}  (864) 583-5874   \n",
       "110  {'latitude': 34.871111, 'longitude': -81.958189}  (864) 595-1178   \n",
       "127    {'latitude': 34.96774, 'longitude': -81.92912}  (864) 583-5989   \n",
       "138    {'latitude': 34.94244, 'longitude': -81.99741}  (864) 327-3333   \n",
       "\n",
       "        distance                      id  \\\n",
       "35   4297.401415  qmPu3fby6luSaVXZC-zWFQ   \n",
       "98    817.282097  WVaJGwGHL1i4Xk6-a2fLZw   \n",
       "110  8414.534186  r7T-_XpRLCoFncvuekuu8A   \n",
       "127  2758.464326  0og9VqApjjycm1YUBvWC0g   \n",
       "138  6282.689255  OdGGmoiQAhZ3CZnJV1d5yQ   \n",
       "\n",
       "                                             image_url  is_closed  \\\n",
       "35   https://s3-media1.fl.yelpcdn.com/bphoto/0b_uVy...      False   \n",
       "98   https://s3-media3.fl.yelpcdn.com/bphoto/pPZKCF...      False   \n",
       "110  https://s3-media1.fl.yelpcdn.com/bphoto/8RfUId...      False   \n",
       "127  https://s3-media4.fl.yelpcdn.com/bphoto/_8904y...      False   \n",
       "138  https://s3-media4.fl.yelpcdn.com/bphoto/2agaju...      False   \n",
       "\n",
       "                                              location  \\\n",
       "35   {'address1': '1055 Fernwood Glendale Rd', 'add...   \n",
       "98   {'address1': '149 W Main St', 'address2': None...   \n",
       "110  {'address1': '4795 S Church Street Ext', 'addr...   \n",
       "127  {'address1': '110 Garner Rd', 'address2': '', ...   \n",
       "138  {'address1': '774 Spartan Bvld', 'address2': N...   \n",
       "\n",
       "                           name         phone price  rating  review_count  \\\n",
       "35                      Dudleys  +18645732626    $$     4.0            55   \n",
       "98      The Peddler Steak House  +18645835874   $$$     3.5            33   \n",
       "110                  Grille 221  +18645951178     $     4.0             4   \n",
       "127                 Basil's B52  +18645835989    $$     4.0             7   \n",
       "138  CityRange Steakhouse Grill  +18643273333    $$     3.5           128   \n",
       "\n",
       "    transactions                                                url  \n",
       "35            []  https://www.yelp.com/biz/dudleys-spartanburg?a...  \n",
       "98            []  https://www.yelp.com/biz/the-peddler-steak-hou...  \n",
       "110           []  https://www.yelp.com/biz/grille-221-roebuck?ad...  \n",
       "127           []  https://www.yelp.com/biz/basils-b52-spartanbur...  \n",
       "138           []  https://www.yelp.com/biz/cityrange-steakhouse-...  "
      ]
     },
     "execution_count": 25,
     "metadata": {},
     "output_type": "execute_result"
    }
   ],
   "source": [
    "steak_places.head()"
   ]
  },
  {
   "cell_type": "code",
   "execution_count": 26,
   "metadata": {
    "scrolled": true
   },
   "outputs": [
    {
     "data": {
      "text/plain": [
       "35                            Dudleys\n",
       "98            The Peddler Steak House\n",
       "110                        Grille 221\n",
       "127                       Basil's B52\n",
       "138        CityRange Steakhouse Grill\n",
       "172                   Texas Roadhouse\n",
       "211                 Phil's Steakhouse\n",
       "229    Demetre's Gourmet Grille & Bar\n",
       "239               LongHorn Steakhouse\n",
       "255        Carter's Steak and Seafood\n",
       "268         Los Mexicanos Restaurante\n",
       "302                Outback Steakhouse\n",
       "Name: name, dtype: object"
      ]
     },
     "execution_count": 26,
     "metadata": {},
     "output_type": "execute_result"
    }
   ],
   "source": [
    "steak_places['name']"
   ]
  },
  {
   "cell_type": "code",
   "execution_count": 28,
   "metadata": {
    "scrolled": true
   },
   "outputs": [
    {
     "name": "stdout",
     "output_type": "stream",
     "text": [
      "Name: Dudleys, Latitude: 34.96595, Longitude: -81.89096\n",
      "Name: The Peddler Steak House, Latitude: 34.949044, Longitude: -81.933125\n",
      "Name: Grille 221, Latitude: 34.871111, Longitude: -81.958189\n",
      "Name: Basil's B52, Latitude: 34.96774, Longitude: -81.92912\n",
      "Name: CityRange Steakhouse Grill, Latitude: 34.94244, Longitude: -81.99741\n",
      "Name: Texas Roadhouse, Latitude: 34.9333838070533, Longitude: -81.9689238972818\n",
      "Name: Phil's Steakhouse, Latitude: 34.89979, Longitude: -81.77172\n",
      "Name: Demetre's Gourmet Grille & Bar, Latitude: 34.917141, Longitude: -82.1120987\n",
      "Name: LongHorn Steakhouse, Latitude: 34.937697, Longitude: -81.988355\n",
      "Name: Carter's Steak and Seafood, Latitude: 35.10773, Longitude: -82.03936\n",
      "Name: Los Mexicanos Restaurante, Latitude: 34.97395, Longitude: -81.88041\n",
      "Name: Outback Steakhouse, Latitude: 34.923452, Longitude: -81.98168\n"
     ]
    },
    {
     "data": {
      "text/html": [
       "<div style=\"width:100%;\"><div style=\"position:relative;width:100%;height:0;padding-bottom:60%;\"><iframe src=\"data:text/html;charset=utf-8;base64,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\" style=\"position:absolute;width:100%;height:100%;left:0;top:0;border:none !important;\" allowfullscreen webkitallowfullscreen mozallowfullscreen></iframe></div></div>"
      ],
      "text/plain": [
       "<folium.folium.Map at 0x161f7cd9978>"
      ]
     },
     "execution_count": 28,
     "metadata": {},
     "output_type": "execute_result"
    }
   ],
   "source": [
    "#map of steak places\n",
    "points=[]\n",
    "indices=list(steak_places.index)\n",
    "for entry in indices:\n",
    "    name=steak_places['name'][entry]\n",
    "    x=steak_places['coordinates'][entry]['latitude']\n",
    "    y=steak_places['coordinates'][entry]['longitude']\n",
    "    points.append((x,y,name))\n",
    "\n",
    "for p in points:\n",
    "    lat = p[0]\n",
    "    long = p[1]\n",
    "    name = p[2]\n",
    "    popup_text = \"Name: {}, Latitude: {}, Longitude: {}\".format(name,lat,long)\n",
    "    popup = folium.Popup(popup_text, parse_html=True)\n",
    "    marker = folium.Marker(location=[lat, long],popup=popup)\n",
    "    marker.add_to(base_map)\n",
    "base_map"
   ]
  },
  {
   "cell_type": "markdown",
   "metadata": {},
   "source": [
    "## Summary\n",
    "\n",
    "Nice work! In this lab, you synthesized your skills for the day, making multiple API calls to Yelp in order to paginate through a results set, performing some basic exploratory analysis and then creating a nice map visual to display the results! Well done!"
   ]
  }
 ],
 "metadata": {
  "kernelspec": {
   "display_name": "Python 3",
   "language": "python",
   "name": "python3"
  },
  "language_info": {
   "codemirror_mode": {
    "name": "ipython",
    "version": 3
   },
   "file_extension": ".py",
   "mimetype": "text/x-python",
   "name": "python",
   "nbconvert_exporter": "python",
   "pygments_lexer": "ipython3",
   "version": "3.7.3"
  }
 },
 "nbformat": 4,
 "nbformat_minor": 2
}
